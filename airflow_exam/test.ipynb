{
 "cells": [
  {
   "cell_type": "code",
   "execution_count": 17,
   "metadata": {},
   "outputs": [],
   "source": [
    "import requests\n",
    "import json\n",
    "from datetime import datetime\n",
    "import os\n",
    "import pandas as pd"
   ]
  },
  {
   "cell_type": "code",
   "execution_count": 20,
   "metadata": {},
   "outputs": [],
   "source": [
    "api_key = \"70c930c88aa878d0bbca83d431eb101f\"\n",
    "def get_raw_weather_data(api_key, cities):\n",
    "    url = \"https://api.openweathermap.org/data/2.5/weather\"\n",
    "\n",
    "    weather_data = {}\n",
    "    for city in cities:\n",
    "        params = {\"q\": city, \"appid\": api_key, \"units\": \"metric\"}\n",
    "        response = requests.get(url, params=params)\n",
    "        data = json.loads(response.text)\n",
    "        weather_data[city] = data\n",
    "\n",
    "    filename = datetime.now().strftime(\"%Y-%m-%d %H:%M\") + \".json\"\n",
    "    filepath = os.path.join(\"./raw_files\", filename)\n",
    "    with open(filepath, \"w\") as f:\n",
    "        json.dump(weather_data, f)\n",
    "    print(\"Weather data saved to\", filepath)"
   ]
  },
  {
   "cell_type": "code",
   "execution_count": 22,
   "metadata": {},
   "outputs": [
    {
     "data": {
      "text/plain": [
       "'HistGradientBoostingRegressor'"
      ]
     },
     "execution_count": 22,
     "metadata": {},
     "output_type": "execute_result"
    }
   ],
   "source": [
    "from sklearn.ensemble import HistGradientBoostingRegressor\n",
    "\n",
    "model = HistGradientBoostingRegressor()\n",
    "model.__class__.__name__"
   ]
  },
  {
   "cell_type": "code",
   "execution_count": 23,
   "metadata": {},
   "outputs": [],
   "source": [
    "scores = {\n",
    "    'GBM': .05,\n",
    "    'Linear Regression': -0.2,\n",
    "    'Decision Tree': -1\n",
    "}\n",
    "winner = max(scores, key=scores.get)"
   ]
  },
  {
   "cell_type": "code",
   "execution_count": 24,
   "metadata": {},
   "outputs": [
    {
     "data": {
      "text/plain": [
       "'GBM'"
      ]
     },
     "execution_count": 24,
     "metadata": {},
     "output_type": "execute_result"
    }
   ],
   "source": [
    "winner"
   ]
  },
  {
   "cell_type": "code",
   "execution_count": 21,
   "metadata": {},
   "outputs": [
    {
     "name": "stdout",
     "output_type": "stream",
     "text": [
      "Weather data saved to ./raw_files/2023-07-19 18:46:19.json\n"
     ]
    }
   ],
   "source": [
    "cities = ['paris', 'brussels', 'amsterdam']\n",
    "get_raw_weather_data(api_key, cities)\n"
   ]
  },
  {
   "cell_type": "code",
   "execution_count": 8,
   "metadata": {},
   "outputs": [],
   "source": [
    "dfs = []\n",
    "for f in files:\n",
    "    with open(os.path.join(parent_folder, f), 'r') as file:\n",
    "        data_temp = json.load(file)"
   ]
  },
  {
   "cell_type": "code",
   "execution_count": 9,
   "metadata": {},
   "outputs": [
    {
     "data": {
      "text/plain": [
       "dict_keys(['Paris', 'Brussels', 'Amsterdam'])"
      ]
     },
     "execution_count": 9,
     "metadata": {},
     "output_type": "execute_result"
    }
   ],
   "source": [
    "data_temp.keys()"
   ]
  },
  {
   "cell_type": "code",
   "execution_count": 10,
   "metadata": {},
   "outputs": [
    {
     "name": "stdout",
     "output_type": "stream",
     "text": [
      "Fold 0:\n",
      "  Train: index=[0 1 2 3 4]\n",
      "  Test:  index=[5 6 7 8 9]\n",
      "Fold 1:\n",
      "  Train: index=[0 1 2 3 4 5 6 7 8 9]\n",
      "  Test:  index=[10 11 12 13 14]\n",
      "Fold 2:\n",
      "  Train: index=[ 0  1  2  3  4  5  6  7  8  9 10 11 12 13 14]\n",
      "  Test:  index=[15 16 17 18 19]\n"
     ]
    }
   ],
   "source": [
    "import numpy as np\n",
    "from sklearn.model_selection import TimeSeriesSplit\n",
    "\n",
    "# Fix test_size to 2 with 12 samples\n",
    "X = np.random.randn(20, 2)\n",
    "y = np.random.randint(0, 2, 20)\n",
    "tscv = TimeSeriesSplit(n_splits=3, test_size=None)\n",
    "for i, (train_index, test_index) in enumerate(tscv.split(X)):\n",
    "     print(f\"Fold {i}:\")\n",
    "     print(f\"  Train: index={train_index}\")\n",
    "     print(f\"  Test:  index={test_index}\")"
   ]
  },
  {
   "cell_type": "code",
   "execution_count": 11,
   "metadata": {},
   "outputs": [
    {
     "name": "stdout",
     "output_type": "stream",
     "text": [
      "   temperature       city  pressure              date\n",
      "0        24.35      Paris      1018  2023-07-19 14:52\n",
      "1        21.59   Brussels      1015  2023-07-19 14:52\n",
      "2        20.85  Amsterdam      1013  2023-07-19 14:52\n",
      "3        24.40      Paris      1018  2023-07-19 14:51\n",
      "4        21.46   Brussels      1015  2023-07-19 14:51\n",
      "5        20.85  Amsterdam      1013  2023-07-19 14:51\n",
      "6        24.40      Paris      1018  2023-07-19 14:50\n",
      "7        21.46   Brussels      1015  2023-07-19 14:50\n",
      "8        20.87  Amsterdam      1013  2023-07-19 14:50\n",
      "9        24.35      Paris      1018  2023-07-19 14:49\n"
     ]
    }
   ],
   "source": [
    "parent_folder = './raw_files'\n",
    "files = sorted(os.listdir(parent_folder), reverse=True)\n",
    "\n",
    "dfs = []\n",
    "for file_name in files:\n",
    "    with open(os.path.join(parent_folder, file_name), 'r') as file:\n",
    "        data = json.load(file)\n",
    "    for city, city_data in data.items():\n",
    "        dfs.append({\n",
    "            'temperature': city_data['main']['temp'],\n",
    "            'city': city_data['name'],\n",
    "            'pressure': city_data['main']['pressure'],\n",
    "            'date': file_name.split('.')[0]\n",
    "        })\n",
    "\n",
    "df = pd.DataFrame(dfs)\n",
    "print(df.head(10))\n",
    "# df.to_csv(os.path.join('./clean_data', filename), index=False)"
   ]
  },
  {
   "cell_type": "code",
   "execution_count": 12,
   "metadata": {},
   "outputs": [
    {
     "name": "stdout",
     "output_type": "stream",
     "text": [
      "\n",
      "    temperature       city  pression              date\n",
      "0        24.35      Paris      1018  2023-07-19 14:52\n",
      "1        21.59   Brussels      1015  2023-07-19 14:52\n",
      "2        20.85  Amsterdam      1013  2023-07-19 14:52\n",
      "3        24.40      Paris      1018  2023-07-19 14:51\n",
      "4        21.46   Brussels      1015  2023-07-19 14:51\n",
      "5        20.85  Amsterdam      1013  2023-07-19 14:51\n",
      "6        24.40      Paris      1018  2023-07-19 14:50\n",
      "7        21.46   Brussels      1015  2023-07-19 14:50\n",
      "8        20.87  Amsterdam      1013  2023-07-19 14:50\n",
      "9        24.35      Paris      1018  2023-07-19 14:49\n"
     ]
    }
   ],
   "source": [
    "parent_folder = './raw_files'\n",
    "files = sorted(os.listdir(parent_folder), reverse=True)\n",
    "\n",
    "dfs = []\n",
    "for f in files:\n",
    "    with open(os.path.join(parent_folder, f), 'r') as file:\n",
    "        data_temp = json.load(file)\n",
    "    for city in data_temp.keys():\n",
    "        data_city = data_temp[city]\n",
    "        dfs.append(\n",
    "            {\n",
    "                'temperature': data_city['main']['temp'],\n",
    "                'city': data_city['name'],\n",
    "                'pression': data_city['main']['pressure'],\n",
    "                'date': f.split('.')[0]\n",
    "            }\n",
    "        )\n",
    "df = pd.DataFrame(dfs)\n",
    "print('\\n', df.head(10))\n",
    "# df.to_csv(os.path.join('./clean_data', filename), index=False)"
   ]
  },
  {
   "cell_type": "code",
   "execution_count": 14,
   "metadata": {},
   "outputs": [
    {
     "name": "stdout",
     "output_type": "stream",
     "text": [
      "   temperature       city  pressure              date\n",
      "0        24.35      Paris      1018  2023-07-19 14:52\n",
      "1        21.59   Brussels      1015  2023-07-19 14:52\n",
      "2        20.85  Amsterdam      1013  2023-07-19 14:52\n",
      "3        24.40      Paris      1018  2023-07-19 14:51\n",
      "4        21.46   Brussels      1015  2023-07-19 14:51\n",
      "5        20.85  Amsterdam      1013  2023-07-19 14:51\n",
      "6        24.40      Paris      1018  2023-07-19 14:50\n",
      "7        21.46   Brussels      1015  2023-07-19 14:50\n",
      "8        20.87  Amsterdam      1013  2023-07-19 14:50\n",
      "9        24.35      Paris      1018  2023-07-19 14:49\n"
     ]
    }
   ],
   "source": [
    "def transform_data_into_csv(n_files=None, filename='data.csv'):\n",
    "    parent_folder = './raw_files'\n",
    "    files = sorted(os.listdir(parent_folder), reverse=True)\n",
    "    if n_files:\n",
    "        files = files[:n_files]\n",
    "\n",
    "    dfs = []\n",
    "    for file_name in files:\n",
    "        with open(os.path.join(parent_folder, file_name), 'r') as file:\n",
    "            data = json.load(file)\n",
    "        for city, city_data in data.items():\n",
    "            dfs.append({\n",
    "                'temperature': city_data['main']['temp'],\n",
    "                'city': city_data['name'],\n",
    "                'pressure': city_data['main']['pressure'],\n",
    "                'date': file_name.split('.')[0]\n",
    "            })\n",
    "\n",
    "    df = pd.DataFrame(dfs)\n",
    "    print(df.head(10))\n",
    "\n",
    "    df.to_csv(os.path.join('./clean_data', filename), index=False)\n",
    "    \n",
    "transform_data_into_csv(n_files=None, filename='data.csv')"
   ]
  },
  {
   "cell_type": "code",
   "execution_count": null,
   "metadata": {},
   "outputs": [],
   "source": [
    "for i in range(180):\n",
    "    get_raw_weather_data(\"70c930c88aa878d0bbca83d431eb101f\")\n",
    "    time.sleep(60)"
   ]
  }
 ],
 "metadata": {
  "kernelspec": {
   "display_name": "fast",
   "language": "python",
   "name": "python3"
  },
  "language_info": {
   "codemirror_mode": {
    "name": "ipython",
    "version": 3
   },
   "file_extension": ".py",
   "mimetype": "text/x-python",
   "name": "python",
   "nbconvert_exporter": "python",
   "pygments_lexer": "ipython3",
   "version": "3.11.4"
  },
  "orig_nbformat": 4
 },
 "nbformat": 4,
 "nbformat_minor": 2
}
